{
 "cells": [
  {
   "cell_type": "code",
   "execution_count": 5,
   "id": "dc4a1907-210f-47bf-a91b-633a9b6d5c55",
   "metadata": {},
   "outputs": [
    {
     "name": "stdin",
     "output_type": "stream",
     "text": [
      "enter number to print triangle 10\n"
     ]
    },
    {
     "name": "stdout",
     "output_type": "stream",
     "text": [
      "           X \n",
      "           X X \n",
      "           X X X \n",
      "           X X X X \n",
      "           X X X X X \n",
      "           X X X X X X \n",
      "           X X X X X X X \n",
      "           X X X X X X X X \n",
      "           X X X X X X X X X \n",
      "           X X X X X X X X X X \n"
     ]
    }
   ],
   "source": [
    "n=int(input(\"enter number to print triangle\"))\n",
    "for i in range(1,n+1):\n",
    "    print(\" \"*(n),\"X \"*i)"
   ]
  },
  {
   "cell_type": "code",
   "execution_count": 7,
   "id": "8330cd79-2e13-4d7a-adb7-f81f45b509f5",
   "metadata": {},
   "outputs": [
    {
     "name": "stdout",
     "output_type": "stream",
     "text": [
      "ggrfds\n"
     ]
    }
   ],
   "source": [
    "s=\"asdfrggrfdsa\"\n",
    "print(s[5:-1])"
   ]
  },
  {
   "cell_type": "code",
   "execution_count": 17,
   "id": "06ddf205-fee9-448e-8aa6-296a434c2141",
   "metadata": {},
   "outputs": [
    {
     "name": "stdout",
     "output_type": "stream",
     "text": [
      "heeloo\n"
     ]
    }
   ],
   "source": [
    "s=\"heeloo\"\n",
    "print(s[::-1])"
   ]
  },
  {
   "cell_type": "code",
   "execution_count": 27,
   "id": "cb7c4af6-bdfd-4075-9ace-b27fe263a4f0",
   "metadata": {},
   "outputs": [
    {
     "name": "stdin",
     "output_type": "stream",
     "text": [
      "enter to check  153\n"
     ]
    },
    {
     "name": "stdout",
     "output_type": "stream",
     "text": [
      "153\n"
     ]
    }
   ],
   "source": [
    "#armstronge number \"\"where sum of cube of digit in number\"\"\n",
    "#153= 1^3+5^3+3^3=153 \"\"num in as string and convert the digit into number\n",
    "num=(str(input(\"enter to check \")))\n",
    "sum=0\n",
    "for digit in num:\n",
    "    sum+=int(digit)**3\n",
    "print(sum)\n",
    "    "
   ]
  },
  {
   "cell_type": "code",
   "execution_count": 29,
   "id": "91202939-6597-4d01-9208-ebb841de48c8",
   "metadata": {},
   "outputs": [
    {
     "name": "stdin",
     "output_type": "stream",
     "text": [
      "enter word  aarraa\n"
     ]
    },
    {
     "name": "stdout",
     "output_type": "stream",
     "text": [
      "aarraa is palindrome True\n"
     ]
    }
   ],
   "source": [
    "# to check palindrome number in string\n",
    "word= input(\"enter word \")\n",
    "print(word,\"is palindrome\",word==word[::-1])"
   ]
  },
  {
   "cell_type": "code",
   "execution_count": 74,
   "id": "755f5458-5087-4f87-b30d-34dc710305ec",
   "metadata": {},
   "outputs": [
    {
     "name": "stdin",
     "output_type": "stream",
     "text": [
      "enter 12\n"
     ]
    },
    {
     "name": "stdout",
     "output_type": "stream",
     "text": [
      "0 1 1 2 3 5 8 13 21 34 55 89 "
     ]
    }
   ],
   "source": [
    "a,b=0,1\n",
    "n=int(input(\"enter\"))\n",
    "for _ in range(n):\n",
    "    print(a,end=\" \")\n",
    "    a,b=b,b+a"
   ]
  },
  {
   "cell_type": "code",
   "execution_count": 88,
   "id": "815ad078-cb02-4f82-811b-fa661d061885",
   "metadata": {},
   "outputs": [
    {
     "name": "stdout",
     "output_type": "stream",
     "text": [
      "to check palindrome number in string\n",
      "\n",
      "revers:  string in number palindrome check to\n"
     ]
    }
   ],
   "source": [
    "#line revers \n",
    "line=\"to check palindrome number in string\"\n",
    "print(line)\n",
    "#break the line\n",
    "word_list=line.split()\n",
    "rline=\"\"\n",
    "#revers it and constuct it\n",
    "for word in word_list[::-1]:\n",
    "   # print(word,end=\" \")\n",
    "   rline=rline+\" \"+word\n",
    "print(\"\\nrevers:\",rline)\n",
    "    \n"
   ]
  },
  {
   "cell_type": "code",
   "execution_count": 84,
   "id": "00785c48-4a32-4c68-bf36-aabc5051c425",
   "metadata": {},
   "outputs": [
    {
     "name": "stdout",
     "output_type": "stream",
     "text": [
      "have i example is this \n",
      "reverse:  have i example is this\n"
     ]
    }
   ],
   "source": [
    "line =\"this is example i have\"\n",
    "word_list=line.split()\n",
    "rline=\"\"\n",
    "for word in word_list[::-1]:\n",
    "    print(word,end=\" \")\n",
    "    rline=rline+\" \"+word\n",
    "print(\"\\nreverse:\",rline)"
   ]
  },
  {
   "cell_type": "code",
   "execution_count": 101,
   "id": "5fb23c51-500b-44be-8964-4c8d57b39143",
   "metadata": {},
   "outputs": [
    {
     "ename": "TypeError",
     "evalue": "'int' object is not callable",
     "output_type": "error",
     "traceback": [
      "\u001b[0;31m---------------------------------------------------------------------------\u001b[0m",
      "\u001b[0;31mTypeError\u001b[0m                                 Traceback (most recent call last)",
      "Cell \u001b[0;32mIn[101], line 8\u001b[0m\n\u001b[1;32m      5\u001b[0m     \u001b[38;5;28mprint\u001b[39m(\u001b[38;5;124m\"\u001b[39m\u001b[38;5;124mminimun\u001b[39m\u001b[38;5;124m\"\u001b[39m,\u001b[38;5;28mmin\u001b[39m(data))\n\u001b[1;32m      6\u001b[0m     \u001b[38;5;28mprint\u001b[39m(\u001b[38;5;124m\"\u001b[39m\u001b[38;5;124mmaximum\u001b[39m\u001b[38;5;124m\"\u001b[39m,\u001b[38;5;28mmax\u001b[39m(data))\n\u001b[0;32m----> 8\u001b[0m summary(\u001b[38;5;241m11\u001b[39m,\u001b[38;5;241m22\u001b[39m,\u001b[38;5;241m1\u001b[39m,\u001b[38;5;241m323\u001b[39m,\u001b[38;5;241m2323\u001b[39m)\n",
      "Cell \u001b[0;32mIn[101], line 3\u001b[0m, in \u001b[0;36msummary\u001b[0;34m(*data)\u001b[0m\n\u001b[1;32m      2\u001b[0m \u001b[38;5;28;01mdef\u001b[39;00m \u001b[38;5;21msummary\u001b[39m(\u001b[38;5;241m*\u001b[39mdata):\n\u001b[0;32m----> 3\u001b[0m     \u001b[38;5;28mprint\u001b[39m(\u001b[38;5;124m\"\u001b[39m\u001b[38;5;124mSum\u001b[39m\u001b[38;5;124m\"\u001b[39m,\u001b[38;5;28msum\u001b[39m(data))\n\u001b[1;32m      4\u001b[0m     \u001b[38;5;66;03m# print(\"length of list\",len(data))\u001b[39;00m\n\u001b[1;32m      5\u001b[0m     \u001b[38;5;28mprint\u001b[39m(\u001b[38;5;124m\"\u001b[39m\u001b[38;5;124mminimun\u001b[39m\u001b[38;5;124m\"\u001b[39m,\u001b[38;5;28mmin\u001b[39m(data))\n",
      "\u001b[0;31mTypeError\u001b[0m: 'int' object is not callable"
     ]
    }
   ],
   "source": [
    "#summary of data\n",
    "def summary(*data):\n",
    "    print(\"Sum\",sum(data))\n",
    "    # print(\"length of list\",len(data))\n",
    "    print(\"minimun\",min(data))\n",
    "    print(\"maximum\",max(data))\n",
    "    \n",
    "summary(11,22,1,323,2323)"
   ]
  },
  {
   "cell_type": "markdown",
   "id": "392dc648-7045-4c60-9703-3bfc3f2addab",
   "metadata": {},
   "source": [
    "summary=(11,22,1,323,2323)"
   ]
  },
  {
   "cell_type": "code",
   "execution_count": 3,
   "id": "774057a3-ad8e-4a38-9752-421f4b9d0d3d",
   "metadata": {},
   "outputs": [],
   "source": [
    "#using list comprehension\n",
    "list_1=[1,2,3,4,5,6,7,8,]\n",
    "list_even=[item for item in list_1 if  item%2==0]\n",
    "lisr_odd=[item for item in list_1 if item%2==1]"
   ]
  },
  {
   "cell_type": "code",
   "execution_count": 13,
   "id": "892e1464-9625-4920-b669-6a89039c48c3",
   "metadata": {},
   "outputs": [
    {
     "name": "stdout",
     "output_type": "stream",
     "text": [
      "None\n"
     ]
    }
   ],
   "source": [
    "list_2=[1, 2123, 35, 42, 5, 63, 7, 84, 9, 10, 11, 12, 13, 14, 15, 16, 17, 18]\n",
    "list_below_avg=[i for i in list_2 if i<sum(list_2)/len(list_2)]\n",
    "print(list_below_avg.sort())"
   ]
  },
  {
   "cell_type": "markdown",
   "id": "f0de8e16-710f-4fc1-9d9f-8a6701aefd17",
   "metadata": {},
   "source": [
    "#### scalar multiplication\n",
    "list_3=[1, 2, 3, 4, 5, 6, 7, 8, 9, 10, 11, 12, 13, 14, 15, 16, 17, 18]\n",
    "list_m=[i*int(input(\"enter your\")) for i in list_3]\n",
    "print(list_m)\n"
   ]
  },
  {
   "cell_type": "code",
   "execution_count": null,
   "id": "e1a74559-2d78-47f7-bb43-590c3f799e9a",
   "metadata": {},
   "outputs": [],
   "source": [
    "list_2=[1, 2123, 35, 42, 5, 63, 7, 84, 9, 10, 11, 12, 13, 14, 15, 16, 17, 18]\n",
    "accend_list=[]\n",
    "for i in range(list_2):\n",
    "    for j in range(i+1):\n",
    "        if i<=j:\n",
    "            accend_list.append(list_2(j))\n",
    "print(accend_list)\n",
    "            \n",
    "    "
   ]
  }
 ],
 "metadata": {
  "kernelspec": {
   "display_name": "anaconda-panel-2023.05-py310",
   "language": "python",
   "name": "conda-env-anaconda-panel-2023.05-py310-py"
  },
  "language_info": {
   "codemirror_mode": {
    "name": "ipython",
    "version": 3
   },
   "file_extension": ".py",
   "mimetype": "text/x-python",
   "name": "python",
   "nbconvert_exporter": "python",
   "pygments_lexer": "ipython3",
   "version": "3.11.5"
  }
 },
 "nbformat": 4,
 "nbformat_minor": 5
}

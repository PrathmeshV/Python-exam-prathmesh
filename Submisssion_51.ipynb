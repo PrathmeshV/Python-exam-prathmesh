{
 "cells": [
  {
   "cell_type": "code",
   "execution_count": 59,
   "id": "8fd6bc27-77f2-4820-aeec-c750ac925131",
   "metadata": {},
   "outputs": [
    {
     "name": "stdout",
     "output_type": "stream",
     "text": [
      "adglqyz"
     ]
    }
   ],
   "source": [
    "#panagram \n",
    "def panagram(s):\n",
    "    t=\"abcdefghijklmnopqrstuvwxyz\"\n",
    "    a=t.lower()\n",
    "    for i in a:\n",
    "       if i not in s:\n",
    "           print(i,end=\"\")\n",
    "       \n",
    "\n",
    "\n",
    "s=\"The Quick brown fox jumps over the\"\n",
    "b=s.lower()\n",
    "panagram(s)"
   ]
  },
  {
   "cell_type": "code",
   "execution_count": null,
   "id": "79c2bc9e-5fac-4ebd-a427-70fe78685d29",
   "metadata": {},
   "outputs": [],
   "source": [
    "#Inventory manegement\n",
    "Inventory={}\n",
    "Inventory[]\n",
    "pro_id=1111\n",
    "def Electronic():\n",
    "    electronic={}\n",
    "    product_name=(input(\"enter product name\"))\n",
    "    electonic[pro_id].append[product_name]\n",
    "    product_catogory=(input(\"eneter product Catogory\"))\n",
    "    electonic[pro_id].append[product_catagory]\n",
    "    product_quntity=(int(\"Enter number of Item\"))\n",
    "    if product_quntity<0:\n",
    "        print(\"Product cant negative\")\n",
    "    electonic[pro_id].append(product_quntiy)\n",
    "    product_price=(float(\"enter Product Price\"))\n",
    "    if product_prince<0:\n",
    "        print(\"Product Price negative\")\n",
    "    electonic[pro_id].append(product_price)\n",
    "    pro_id+=Product_id\n",
    "    electonic[pro_id]=[product_name,product_catagory,product_quntity,product_price]\n",
    "    print(\"Product id is\",pro_id)\n",
    "def Clothing():\n",
    "    clothing={}\n",
    "    clothing_id=2222\n",
    "    clo_name=(input(\"enter product name\"))\n",
    "    clothing[clo_id].append[clo_name]\n",
    "    clo_catogor=(input(\"enter product ctagori\"))\n",
    "    clothing[clo_id].append[clo_catogor]\n",
    "    clo_quntity=(input(\"enter product quntity\"))\n",
    "    if clo_quntity<0:\n",
    "        print(\"Product Price negative\")\n",
    "    clothing[clo_id].append[clo_name]\n",
    "    clo_price=(input(\"enter product price\"))\n",
    "    if clo_prince<0:\n",
    "        print(\"Cloting Price negative\")\n",
    "    clothing[clo_id].append[clo_name]\n",
    "    clo_id+=clothing_id\n",
    "    print(\"Clothing item id is\",clo_id)\n",
    "def Groceries():\n",
    "    groceries={}\n",
    "    groceries_id=3333\n",
    "    gro_name=(input(\"enter product name\"))\n",
    "    groceries[gro_id].append[gro_name]\n",
    "    gro_catogor=(input(\"enter product ctagori\"))\n",
    "    groceries[gro_id].append[gro_catogor]\n",
    "    gro_quntity=(input(\"enter product quntity\"))\n",
    "    if gro_prince<0:\n",
    "        print(\"Product Price negative\")\n",
    "    groceries[gro_id].append[gro_name]\n",
    "    gro_price=(input(\"enter product price\"))\n",
    "    if gro_prince<0:\n",
    "        print(\"Product Price negativ\")\n",
    "    groceries[gro_id].append[gro_name]\n",
    "    gro_id+=groceries_id\n",
    "    print(\"Groceries item id is\",gro_id)\n",
    "while True:\n",
    "    print(\"===============================\")\n",
    "    print(\"======Enter=====\")\n",
    "    print(\"=====INVENTORY MANEGMENT=======\")\n",
    "    print(\"===============================\")\n",
    "    print(\"====1.Elctronics========\")\n",
    "    print(\"====2.Clothing==========\")\n",
    "    print(\"====3.Groceries=========\")\n",
    "    print(\"====4.wrong opetion======\")\n",
    "    print(\"====================\")\n",
    "    print(\"====================\")\n",
    "    ch=input()\n",
    "    if ch==1:\n",
    "        Electronic()\n",
    "        # if Electronic\n",
    "    if ch==2:\n",
    "        Clothing()\n",
    "    if ch==3:\n",
    "        Groceries()\n",
    "    if ch==4:\n",
    "        print(\"worng choice\")    \n",
    "    else:\n",
    "        print(\"====buy buy====\")\n",
    "Inventory_data=Elctronic()\n",
    "\n",
    "    \n",
    "    "
   ]
  },
  {
   "cell_type": "code",
   "execution_count": null,
   "id": "7ef45845-a3f0-4e3d-9939-7a07dc781770",
   "metadata": {},
   "outputs": [],
   "source": [
    "file.open(\"readfile.txt\",w)\n",
    "write.line(Inventory_data)\n"
   ]
  }
 ],
 "metadata": {
  "kernelspec": {
   "display_name": "anaconda-2024.02-py310",
   "language": "python",
   "name": "conda-env-anaconda-2024.02-py310-py"
  },
  "language_info": {
   "codemirror_mode": {
    "name": "ipython",
    "version": 3
   },
   "file_extension": ".py",
   "mimetype": "text/x-python",
   "name": "python",
   "nbconvert_exporter": "python",
   "pygments_lexer": "ipython3",
   "version": "3.10.14"
  }
 },
 "nbformat": 4,
 "nbformat_minor": 5
}
